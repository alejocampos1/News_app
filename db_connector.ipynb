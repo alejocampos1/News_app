{
 "cells": [
  {
   "cell_type": "markdown",
   "metadata": {},
   "source": [
    "Habilitar la conexión con la base de datos"
   ]
  },
  {
   "cell_type": "code",
   "execution_count": null,
   "metadata": {},
   "outputs": [],
   "source": [
    "        'host': 'database-1.c1c8yoww2ngl.us-east-1.rds.amazonaws.com',\n",
    "        'user': 'admin',\n",
    "        'password': '#Ferrari1',\n",
    "        'database': 'database-1'"
   ]
  }
 ],
 "metadata": {
  "kernelspec": {
   "display_name": "Practicas",
   "language": "python",
   "name": "python3"
  },
  "language_info": {
   "codemirror_mode": {
    "name": "ipython",
    "version": 3
   },
   "file_extension": ".py",
   "mimetype": "text/x-python",
   "name": "python",
   "nbconvert_exporter": "python",
   "pygments_lexer": "ipython3",
   "version": "3.11.5"
  }
 },
 "nbformat": 4,
 "nbformat_minor": 2
}
