{
 "cells": [
  {
   "cell_type": "markdown",
   "metadata": {},
   "source": [
    "Habilitar la conexión con la base de datos"
   ]
  },
  {
   "cell_type": "code",
   "execution_count": null,
   "metadata": {},
   "outputs": [],
   "source": [
    "import mysql.connector\n",
    "\n",
    "# Configura los detalles de conexión a tu base de datos en AWS\n",
    "db_config = {\n",
    "    'host': 'nombre-del-host-en-aws',\n",
    "    'user': 'tu-usuario',\n",
    "    'password': 'tu-contraseña',\n",
    "    'database': 'tu-base-de-datos'\n",
    "}\n",
    "\n",
    "# Intenta establecer la conexión\n",
    "try:\n",
    "    conn = mysql.connector.connect(**db_config)\n",
    "    if conn.is_connected():\n",
    "        print('Conexión establecida a la base de datos')\n",
    "\n",
    "        # Ejemplo de consulta\n",
    "        cursor = conn.cursor()\n",
    "        cursor.execute(\"SELECT * FROM tu_tabla;\")\n",
    "        rows = cursor.fetchall()\n",
    "\n",
    "        # Imprime los resultados\n",
    "        for row in rows:\n",
    "            print(row)\n",
    "\n",
    "except mysql.connector.Error as e:\n",
    "    print(f'Error de conexión: {e}')"
   ]
  },
  {
   "cell_type": "markdown",
   "metadata": {},
   "source": [
    "Cerrar la conexión con la base de datos"
   ]
  },
  {
   "cell_type": "code",
   "execution_count": null,
   "metadata": {},
   "outputs": [],
   "source": [
    "if conn.is_connected():\n",
    "    cursor.close()\n",
    "    conn.close()\n",
    "    print('Conexión cerrada')"
   ]
  }
 ],
 "metadata": {
  "kernelspec": {
   "display_name": "Practicas",
   "language": "python",
   "name": "python3"
  },
  "language_info": {
   "codemirror_mode": {
    "name": "ipython",
    "version": 3
   },
   "file_extension": ".py",
   "mimetype": "text/x-python",
   "name": "python",
   "nbconvert_exporter": "python",
   "pygments_lexer": "ipython3",
   "version": "3.11.5"
  }
 },
 "nbformat": 4,
 "nbformat_minor": 2
}
